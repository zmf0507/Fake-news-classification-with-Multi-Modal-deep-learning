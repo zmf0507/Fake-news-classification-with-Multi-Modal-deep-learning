{
 "cells": [
  {
   "cell_type": "code",
   "execution_count": 0,
   "metadata": {
    "colab": {},
    "colab_type": "code",
    "id": "yhhp9BghCKA_"
   },
   "outputs": [],
   "source": [
    "! cp -a \"/content/drive/My Drive/thesis-task\" \"/content\""
   ]
  },
  {
   "cell_type": "code",
   "execution_count": 3,
   "metadata": {
    "colab": {
     "base_uri": "https://localhost:8080/",
     "height": 239
    },
    "colab_type": "code",
    "id": "kImURHg5YYxz",
    "outputId": "125b8e8d-7a01-4f49-8a43-1f68656d054a"
   },
   "outputs": [
    {
     "name": "stdout",
     "output_type": "stream",
     "text": [
      "--2020-06-10 13:53:16--  https://raw.githubusercontent.com/tensorflow/models/master/official/nlp/bert/tokenization.py\n",
      "Resolving raw.githubusercontent.com (raw.githubusercontent.com)... 151.101.0.133, 151.101.64.133, 151.101.128.133, ...\n",
      "Connecting to raw.githubusercontent.com (raw.githubusercontent.com)|151.101.0.133|:443... connected.\n",
      "HTTP request sent, awaiting response... 200 OK\n",
      "Length: 16775 (16K) [text/plain]\n",
      "Saving to: ‘tokenization.py’\n",
      "\n",
      "\r",
      "tokenization.py       0%[                    ]       0  --.-KB/s               \r",
      "tokenization.py     100%[===================>]  16.38K  --.-KB/s    in 0.007s  \n",
      "\n",
      "2020-06-10 13:53:16 (2.18 MB/s) - ‘tokenization.py’ saved [16775/16775]\n",
      "\n"
     ]
    }
   ],
   "source": [
    "## bert tokenization library file\n",
    "!wget  https://raw.githubusercontent.com/tensorflow/models/master/official/nlp/bert/tokenization.py"
   ]
  },
  {
   "cell_type": "code",
   "execution_count": 4,
   "metadata": {
    "colab": {
     "base_uri": "https://localhost:8080/",
     "height": 129
    },
    "colab_type": "code",
    "id": "kVqn_Ch7GntE",
    "outputId": "32aeb41b-cd28-43c0-b563-bb994ec695f8"
   },
   "outputs": [
    {
     "name": "stdout",
     "output_type": "stream",
     "text": [
      "Collecting sentencepiece\n",
      "\u001b[?25l  Downloading https://files.pythonhosted.org/packages/d4/a4/d0a884c4300004a78cca907a6ff9a5e9fe4f090f5d95ab341c53d28cbc58/sentencepiece-0.1.91-cp36-cp36m-manylinux1_x86_64.whl (1.1MB)\n",
      "\u001b[K     |████████████████████████████████| 1.1MB 4.6MB/s \n",
      "\u001b[?25hInstalling collected packages: sentencepiece\n",
      "Successfully installed sentencepiece-0.1.91\n"
     ]
    }
   ],
   "source": [
    "!pip install sentencepiece "
   ]
  },
  {
   "cell_type": "code",
   "execution_count": 0,
   "metadata": {
    "colab": {},
    "colab_type": "code",
    "id": "cwOl_XsTYYyG"
   },
   "outputs": [],
   "source": [
    "import cv2\n",
    "import warnings\n",
    "import pickle\n",
    "warnings.filterwarnings('ignore')\n",
    "import numpy as np\n",
    "import pandas as pd\n",
    "import tensorflow as tf\n",
    "from tensorflow.keras.layers import Dense, Input, GlobalMaxPooling2D, Concatenate, Flatten, Dropout, MaxPooling2D, BatchNormalization\n",
    "from tensorflow.keras.optimizers import Adam\n",
    "from tensorflow.keras.models import Model\n",
    "from tensorflow.keras.callbacks import ModelCheckpoint\n",
    "from tensorflow.keras.applications.vgg19 import VGG19\n",
    "from keras.utils import np_utils\n",
    "import tensorflow_hub as hub\n",
    "from sklearn.preprocessing import LabelEncoder\n",
    "import matplotlib.pyplot as plt\n",
    "import tokenization\n",
    "import os\n"
   ]
  },
  {
   "cell_type": "code",
   "execution_count": 80,
   "metadata": {
    "colab": {
     "base_uri": "https://localhost:8080/",
     "height": 702
    },
    "colab_type": "code",
    "id": "NHdjx4mvYYyV",
    "outputId": "b46d10de-a26a-47c8-ca1d-ed877cd13099"
   },
   "outputs": [
    {
     "data": {
      "text/html": [
       "<div>\n",
       "<style scoped>\n",
       "    .dataframe tbody tr th:only-of-type {\n",
       "        vertical-align: middle;\n",
       "    }\n",
       "\n",
       "    .dataframe tbody tr th {\n",
       "        vertical-align: top;\n",
       "    }\n",
       "\n",
       "    .dataframe thead th {\n",
       "        text-align: right;\n",
       "    }\n",
       "</style>\n",
       "<table border=\"1\" class=\"dataframe\">\n",
       "  <thead>\n",
       "    <tr style=\"text-align: right;\">\n",
       "      <th></th>\n",
       "      <th>tweetId</th>\n",
       "      <th>tweetText</th>\n",
       "      <th>userId</th>\n",
       "      <th>username</th>\n",
       "      <th>timestamp</th>\n",
       "      <th>label</th>\n",
       "      <th>imageId(s)</th>\n",
       "    </tr>\n",
       "  </thead>\n",
       "  <tbody>\n",
       "    <tr>\n",
       "      <th>0</th>\n",
       "      <td>263046056240115712</td>\n",
       "      <td>¿Se acuerdan de la película “El día después de...</td>\n",
       "      <td>21226711</td>\n",
       "      <td>iAnnieM</td>\n",
       "      <td>Mon Oct 29 223401 +0000 2012</td>\n",
       "      <td>fake</td>\n",
       "      <td>sandyA_fake_46</td>\n",
       "    </tr>\n",
       "    <tr>\n",
       "      <th>1</th>\n",
       "      <td>262995061304852481</td>\n",
       "      <td>@milenagimon Miren a Sandy en NY!  Tremenda im...</td>\n",
       "      <td>192378571</td>\n",
       "      <td>CarlosVerareal</td>\n",
       "      <td>Mon Oct 29 191123 +0000 2012</td>\n",
       "      <td>fake</td>\n",
       "      <td>sandyA_fake_09</td>\n",
       "    </tr>\n",
       "    <tr>\n",
       "      <th>2</th>\n",
       "      <td>262979898002534400</td>\n",
       "      <td>Buena la foto del Huracán Sandy, me recuerda a...</td>\n",
       "      <td>132303095</td>\n",
       "      <td>LucasPalape</td>\n",
       "      <td>Mon Oct 29 181108 +0000 2012</td>\n",
       "      <td>fake</td>\n",
       "      <td>sandyA_fake_09</td>\n",
       "    </tr>\n",
       "    <tr>\n",
       "      <th>3</th>\n",
       "      <td>262996108400271360</td>\n",
       "      <td>Scary shit #hurricane #NY httpt.coe4JLBUfH</td>\n",
       "      <td>241995902</td>\n",
       "      <td>Haaaaarryyy</td>\n",
       "      <td>Mon Oct 29 191533 +0000 2012</td>\n",
       "      <td>fake</td>\n",
       "      <td>sandyA_fake_29</td>\n",
       "    </tr>\n",
       "    <tr>\n",
       "      <th>4</th>\n",
       "      <td>263018881839411200</td>\n",
       "      <td>My fave place in the world #nyc #hurricane #sa...</td>\n",
       "      <td>250315890</td>\n",
       "      <td>princess__natt</td>\n",
       "      <td>Mon Oct 29 204602 +0000 2012</td>\n",
       "      <td>fake</td>\n",
       "      <td>sandyA_fake_15</td>\n",
       "    </tr>\n",
       "    <tr>\n",
       "      <th>...</th>\n",
       "      <td>...</td>\n",
       "      <td>...</td>\n",
       "      <td>...</td>\n",
       "      <td>...</td>\n",
       "      <td>...</td>\n",
       "      <td>...</td>\n",
       "      <td>...</td>\n",
       "    </tr>\n",
       "    <tr>\n",
       "      <th>14622</th>\n",
       "      <td>443231991593304064</td>\n",
       "      <td>@BobombDom slaps TweetDeck with the PigFish ht...</td>\n",
       "      <td>2179310905</td>\n",
       "      <td>Da_Vault_Hunter</td>\n",
       "      <td>Tue Mar 11 03 48 36 +0000 2014</td>\n",
       "      <td>fake</td>\n",
       "      <td>pigFish_01</td>\n",
       "    </tr>\n",
       "    <tr>\n",
       "      <th>14623</th>\n",
       "      <td>443086239127076865</td>\n",
       "      <td>New Species of Fish found in Brazil or just Re...</td>\n",
       "      <td>254843101</td>\n",
       "      <td>DjSituation_RC</td>\n",
       "      <td>Mon Mar 10 18 09 26 +0000 2014</td>\n",
       "      <td>fake</td>\n",
       "      <td>pigFish_01</td>\n",
       "    </tr>\n",
       "    <tr>\n",
       "      <th>14624</th>\n",
       "      <td>442978105238753280</td>\n",
       "      <td>What do we call this #pigFISH http t.co4Bml62OD15</td>\n",
       "      <td>2367553228</td>\n",
       "      <td>Vivo1Vuyo</td>\n",
       "      <td>Mon Mar 10 10 59 45 +0000 2014</td>\n",
       "      <td>fake</td>\n",
       "      <td>pigFish_01</td>\n",
       "    </tr>\n",
       "    <tr>\n",
       "      <th>14625</th>\n",
       "      <td>442753479782989824</td>\n",
       "      <td>Pigfish  E dopo il pescecane c'è il pesce maia...</td>\n",
       "      <td>603120231</td>\n",
       "      <td>CosimoTarta</td>\n",
       "      <td>Sun Mar 09 20 07 10 +0000 2014</td>\n",
       "      <td>fake</td>\n",
       "      <td>pigFish_01</td>\n",
       "    </tr>\n",
       "    <tr>\n",
       "      <th>14626</th>\n",
       "      <td>442700377860104192</td>\n",
       "      <td>For those who can't decide between fish or mea...</td>\n",
       "      <td>25086784</td>\n",
       "      <td>johnszim</td>\n",
       "      <td>Sun Mar 09 16 36 09 +0000 2014</td>\n",
       "      <td>fake</td>\n",
       "      <td>pigFish_01</td>\n",
       "    </tr>\n",
       "  </tbody>\n",
       "</table>\n",
       "<p>11869 rows × 7 columns</p>\n",
       "</div>"
      ],
      "text/plain": [
       "                  tweetId  ...      imageId(s)\n",
       "0      263046056240115712  ...  sandyA_fake_46\n",
       "1      262995061304852481  ...  sandyA_fake_09\n",
       "2      262979898002534400  ...  sandyA_fake_09\n",
       "3      262996108400271360  ...  sandyA_fake_29\n",
       "4      263018881839411200  ...  sandyA_fake_15\n",
       "...                   ...  ...             ...\n",
       "14622  443231991593304064  ...      pigFish_01\n",
       "14623  443086239127076865  ...      pigFish_01\n",
       "14624  442978105238753280  ...      pigFish_01\n",
       "14625  442753479782989824  ...      pigFish_01\n",
       "14626  442700377860104192  ...      pigFish_01\n",
       "\n",
       "[11869 rows x 7 columns]"
      ]
     },
     "execution_count": 80,
     "metadata": {
      "tags": []
     },
     "output_type": "execute_result"
    }
   ],
   "source": [
    "## reading training tweets data\n",
    "trainData = pd.read_csv(\"thesis-task/dataset/tweets.txt\", delimiter=\"\t\")\n",
    "splitData = pd.concat([pd.Series(row[\"tweetId\"],  row[\"imageId(s)\"].split(','))              \n",
    "                    for _, row in trainData.iterrows()]).reset_index(name=\"tweetId\")\n",
    "trainData = trainData.merge(splitData,how='outer',left_on=['tweetId'],right_on=['tweetId'])\n",
    "del trainData[\"imageId(s)\"]\n",
    "trainData.rename(columns={'index':'imageId(s)'}, inplace=True)\n",
    "trainData[\"imageId(s)\"] = trainData[\"imageId(s)\"].str.strip()\n",
    "for dir, _, files in os.walk('thesis-task/dataset/images/'):\n",
    "    imageList = files\n",
    "imgs = trainData[\"imageId(s)\"].unique()\n",
    "for i, image in enumerate(imageList):\n",
    "    image = image.split('.')[0]\n",
    "    imageList[i] = image\n",
    "\n",
    "imageList.remove('boston_fake_10')  ## format video;  not available\n",
    "trainData = trainData.loc[trainData['imageId(s)'].isin(imageList)]\n",
    "trainData = trainData.loc[trainData[\"label\"]!='humor']\n",
    "trainData"
   ]
  },
  {
   "cell_type": "code",
   "execution_count": 81,
   "metadata": {
    "colab": {
     "base_uri": "https://localhost:8080/",
     "height": 112
    },
    "colab_type": "code",
    "id": "vdOmsS53YYyi",
    "outputId": "0867f509-f8aa-4e55-b7fe-db9b0e4f12fa"
   },
   "outputs": [
    {
     "data": {
      "text/html": [
       "<div>\n",
       "<style scoped>\n",
       "    .dataframe tbody tr th:only-of-type {\n",
       "        vertical-align: middle;\n",
       "    }\n",
       "\n",
       "    .dataframe tbody tr th {\n",
       "        vertical-align: top;\n",
       "    }\n",
       "\n",
       "    .dataframe thead th {\n",
       "        text-align: right;\n",
       "    }\n",
       "</style>\n",
       "<table border=\"1\" class=\"dataframe\">\n",
       "  <thead>\n",
       "    <tr style=\"text-align: right;\">\n",
       "      <th></th>\n",
       "      <th>label</th>\n",
       "      <th>Count</th>\n",
       "    </tr>\n",
       "  </thead>\n",
       "  <tbody>\n",
       "    <tr>\n",
       "      <th>0</th>\n",
       "      <td>fake</td>\n",
       "      <td>6844</td>\n",
       "    </tr>\n",
       "    <tr>\n",
       "      <th>1</th>\n",
       "      <td>real</td>\n",
       "      <td>5025</td>\n",
       "    </tr>\n",
       "  </tbody>\n",
       "</table>\n",
       "</div>"
      ],
      "text/plain": [
       "  label  Count\n",
       "0  fake   6844\n",
       "1  real   5025"
      ]
     },
     "execution_count": 81,
     "metadata": {
      "tags": []
     },
     "output_type": "execute_result"
    }
   ],
   "source": [
    "## class wise train data distribution and their count \n",
    "dataDistribution = trainData.groupby(['label'], sort=True).size().reset_index(name='Count')\n",
    "dataDistribution"
   ]
  },
  {
   "cell_type": "code",
   "execution_count": 82,
   "metadata": {
    "colab": {
     "base_uri": "https://localhost:8080/",
     "height": 244
    },
    "colab_type": "code",
    "id": "upoqbI-NYYzX",
    "outputId": "64db666b-cf0e-48d8-f037-5c1e7053a959"
   },
   "outputs": [
    {
     "name": "stdout",
     "output_type": "stream",
     "text": [
      "Validation set class distribution\n"
     ]
    },
    {
     "data": {
      "text/html": [
       "<div>\n",
       "<style scoped>\n",
       "    .dataframe tbody tr th:only-of-type {\n",
       "        vertical-align: middle;\n",
       "    }\n",
       "\n",
       "    .dataframe tbody tr th {\n",
       "        vertical-align: top;\n",
       "    }\n",
       "\n",
       "    .dataframe thead th {\n",
       "        text-align: right;\n",
       "    }\n",
       "</style>\n",
       "<table border=\"1\" class=\"dataframe\">\n",
       "  <thead>\n",
       "    <tr style=\"text-align: right;\">\n",
       "      <th></th>\n",
       "      <th>label</th>\n",
       "      <th>Count</th>\n",
       "    </tr>\n",
       "  </thead>\n",
       "  <tbody>\n",
       "    <tr>\n",
       "      <th>0</th>\n",
       "      <td>fake</td>\n",
       "      <td>684</td>\n",
       "    </tr>\n",
       "    <tr>\n",
       "      <th>1</th>\n",
       "      <td>real</td>\n",
       "      <td>502</td>\n",
       "    </tr>\n",
       "  </tbody>\n",
       "</table>\n",
       "</div>"
      ],
      "text/plain": [
       "  label  Count\n",
       "0  fake    684\n",
       "1  real    502"
      ]
     },
     "metadata": {
      "tags": []
     },
     "output_type": "display_data"
    },
    {
     "name": "stdout",
     "output_type": "stream",
     "text": [
      "Training set class distribution\n"
     ]
    },
    {
     "data": {
      "text/html": [
       "<div>\n",
       "<style scoped>\n",
       "    .dataframe tbody tr th:only-of-type {\n",
       "        vertical-align: middle;\n",
       "    }\n",
       "\n",
       "    .dataframe tbody tr th {\n",
       "        vertical-align: top;\n",
       "    }\n",
       "\n",
       "    .dataframe thead th {\n",
       "        text-align: right;\n",
       "    }\n",
       "</style>\n",
       "<table border=\"1\" class=\"dataframe\">\n",
       "  <thead>\n",
       "    <tr style=\"text-align: right;\">\n",
       "      <th></th>\n",
       "      <th>label</th>\n",
       "      <th>Count</th>\n",
       "    </tr>\n",
       "  </thead>\n",
       "  <tbody>\n",
       "    <tr>\n",
       "      <th>0</th>\n",
       "      <td>fake</td>\n",
       "      <td>6160</td>\n",
       "    </tr>\n",
       "    <tr>\n",
       "      <th>1</th>\n",
       "      <td>real</td>\n",
       "      <td>4520</td>\n",
       "    </tr>\n",
       "  </tbody>\n",
       "</table>\n",
       "</div>"
      ],
      "text/plain": [
       "  label  Count\n",
       "0  fake   6160\n",
       "1  real   4520"
      ]
     },
     "execution_count": 82,
     "metadata": {
      "tags": []
     },
     "output_type": "execute_result"
    }
   ],
   "source": [
    "#### generating validation dataset (train/validation split)\n",
    "valData = trainData.groupby(['label'],as_index=False).apply(lambda x: x.sample(frac=0.1))\n",
    "# print(valData.columns)\n",
    "valData\n",
    "trainData = pd.concat([trainData,valData, valData]).drop_duplicates(keep=False)\n",
    "dataDistribution = valData.groupby(['label'], sort=True).size().reset_index(name='Count')\n",
    "print(\"Validation set class distribution\")\n",
    "display(dataDistribution.head())\n",
    "print(\"Training set class distribution\")\n",
    "dataDistribution = trainData.groupby(['label'], sort=True).size().reset_index(name='Count')\n",
    "dataDistribution.head()    "
   ]
  },
  {
   "cell_type": "code",
   "execution_count": 83,
   "metadata": {
    "colab": {
     "base_uri": "https://localhost:8080/",
     "height": 808
    },
    "colab_type": "code",
    "id": "3mMk-dr1YYy_",
    "outputId": "cdc9b4d7-8cb8-4172-c7c5-e8c6d05fd8ae"
   },
   "outputs": [
    {
     "name": "stdout",
     "output_type": "stream",
     "text": [
      "(3865, 2)\n",
      "51\n"
     ]
    },
    {
     "data": {
      "text/html": [
       "<div>\n",
       "<style scoped>\n",
       "    .dataframe tbody tr th:only-of-type {\n",
       "        vertical-align: middle;\n",
       "    }\n",
       "\n",
       "    .dataframe tbody tr th {\n",
       "        vertical-align: top;\n",
       "    }\n",
       "\n",
       "    .dataframe thead th {\n",
       "        text-align: right;\n",
       "    }\n",
       "</style>\n",
       "<table border=\"1\" class=\"dataframe\">\n",
       "  <thead>\n",
       "    <tr style=\"text-align: right;\">\n",
       "      <th></th>\n",
       "      <th>tweetId</th>\n",
       "      <th>tweetText</th>\n",
       "      <th>userId</th>\n",
       "      <th>username</th>\n",
       "      <th>timestamp</th>\n",
       "      <th>label</th>\n",
       "      <th>imageId(s)</th>\n",
       "    </tr>\n",
       "  </thead>\n",
       "  <tbody>\n",
       "    <tr>\n",
       "      <th>0</th>\n",
       "      <td>578854927457349632</td>\n",
       "      <td>kereeen RT @Shyman33: Eclipse from ISS.... htt...</td>\n",
       "      <td>70824972</td>\n",
       "      <td>peay_s</td>\n",
       "      <td>Fri Mar 20 09:45:43 +0000 2015</td>\n",
       "      <td>fake</td>\n",
       "      <td>eclipse_01</td>\n",
       "    </tr>\n",
       "    <tr>\n",
       "      <th>1</th>\n",
       "      <td>578874632670953472</td>\n",
       "      <td>Absolutely beautiful! RT @Shyman33: Eclipse fr...</td>\n",
       "      <td>344707006</td>\n",
       "      <td>JaredUcanChange</td>\n",
       "      <td>Fri Mar 20 11:04:02 +0000 2015</td>\n",
       "      <td>fake</td>\n",
       "      <td>eclipse_01</td>\n",
       "    </tr>\n",
       "    <tr>\n",
       "      <th>2</th>\n",
       "      <td>578891261353984000</td>\n",
       "      <td>“@Shyman33: Eclipse from ISS.... http://t.co/C...</td>\n",
       "      <td>224839607</td>\n",
       "      <td>tpjp1231</td>\n",
       "      <td>Fri Mar 20 12:10:06 +0000 2015</td>\n",
       "      <td>fake</td>\n",
       "      <td>eclipse_01</td>\n",
       "    </tr>\n",
       "    <tr>\n",
       "      <th>3</th>\n",
       "      <td>578846612312748032</td>\n",
       "      <td>Eclipse from ISS.... http://t.co/En87OtvsU6</td>\n",
       "      <td>134543073</td>\n",
       "      <td>Shyman33</td>\n",
       "      <td>Fri Mar 20 09:12:41 +0000 2015</td>\n",
       "      <td>fake</td>\n",
       "      <td>eclipse_01</td>\n",
       "    </tr>\n",
       "    <tr>\n",
       "      <th>4</th>\n",
       "      <td>578975333841551360</td>\n",
       "      <td>@ebonfigli: Éclipse vue de l'ISS... Autre chos...</td>\n",
       "      <td>1150728872</td>\n",
       "      <td>Epimethee_</td>\n",
       "      <td>Fri Mar 20 17:44:11 +0000 2015</td>\n",
       "      <td>fake</td>\n",
       "      <td>eclipse_01</td>\n",
       "    </tr>\n",
       "    <tr>\n",
       "      <th>...</th>\n",
       "      <td>...</td>\n",
       "      <td>...</td>\n",
       "      <td>...</td>\n",
       "      <td>...</td>\n",
       "      <td>...</td>\n",
       "      <td>...</td>\n",
       "      <td>...</td>\n",
       "    </tr>\n",
       "    <tr>\n",
       "      <th>2030</th>\n",
       "      <td>583783882182430722</td>\n",
       "      <td>In honor of our fellow Students, we pray the g...</td>\n",
       "      <td>2492068440</td>\n",
       "      <td>Instaadict</td>\n",
       "      <td>Fri Apr 03 00:11:38 +0000 2015</td>\n",
       "      <td>real</td>\n",
       "      <td>garissa_04</td>\n",
       "    </tr>\n",
       "    <tr>\n",
       "      <th>2031</th>\n",
       "      <td>583869095633911808</td>\n",
       "      <td>The horror image from inside #Kenya campus #Ga...</td>\n",
       "      <td>255109494</td>\n",
       "      <td>bleqdipSA</td>\n",
       "      <td>Fri Apr 03 05:50:14 +0000 2015</td>\n",
       "      <td>real</td>\n",
       "      <td>garissa_04</td>\n",
       "    </tr>\n",
       "    <tr>\n",
       "      <th>2032</th>\n",
       "      <td>583813623425998848</td>\n",
       "      <td>#BREAKING \\n🔴WARNING! 🔞📷GRAPHIC CONTENT🔞\\nDeat...</td>\n",
       "      <td>514063845</td>\n",
       "      <td>marpipeas</td>\n",
       "      <td>Fri Apr 03 02:09:49 +0000 2015</td>\n",
       "      <td>real</td>\n",
       "      <td>garissa_04</td>\n",
       "    </tr>\n",
       "    <tr>\n",
       "      <th>2033</th>\n",
       "      <td>583857897030975490</td>\n",
       "      <td>it hurts : @joansalihi : The image from\\ninsid...</td>\n",
       "      <td>1082284466</td>\n",
       "      <td>mage_amos</td>\n",
       "      <td>Fri Apr 03 05:05:44 +0000 2015</td>\n",
       "      <td>real</td>\n",
       "      <td>garissa_04</td>\n",
       "    </tr>\n",
       "    <tr>\n",
       "      <th>2034</th>\n",
       "      <td>583871713370361856</td>\n",
       "      <td>The World must see this! @CNN @ABC  horror ima...</td>\n",
       "      <td>208488821</td>\n",
       "      <td>Tali_Munzhedzi</td>\n",
       "      <td>Fri Apr 03 06:00:38 +0000 2015</td>\n",
       "      <td>real</td>\n",
       "      <td>garissa_04</td>\n",
       "    </tr>\n",
       "  </tbody>\n",
       "</table>\n",
       "<p>2033 rows × 7 columns</p>\n",
       "</div>"
      ],
      "text/plain": [
       "                 tweetId  ...  imageId(s)\n",
       "0     578854927457349632  ...  eclipse_01\n",
       "1     578874632670953472  ...  eclipse_01\n",
       "2     578891261353984000  ...  eclipse_01\n",
       "3     578846612312748032  ...  eclipse_01\n",
       "4     578975333841551360  ...  eclipse_01\n",
       "...                  ...  ...         ...\n",
       "2030  583783882182430722  ...  garissa_04\n",
       "2031  583869095633911808  ...  garissa_04\n",
       "2032  583813623425998848  ...  garissa_04\n",
       "2033  583857897030975490  ...  garissa_04\n",
       "2034  583871713370361856  ...  garissa_04\n",
       "\n",
       "[2033 rows x 7 columns]"
      ]
     },
     "execution_count": 83,
     "metadata": {
      "tags": []
     },
     "output_type": "execute_result"
    }
   ],
   "source": [
    "## reading test tweets data\n",
    "testData = pd.read_csv(\"thesis-task/testset/tweets.txt\", delimiter=\"\t\")\n",
    "# testData.loc[testData[\"imageId(s)\"]=='syrian_boy_video.txt']\n",
    "splitData = pd.concat([pd.Series(row[\"tweetId\"],  row[\"imageId(s)\"].split(','))              \n",
    "                    for _, row in testData.iterrows()]).reset_index(name=\"tweetId\")\n",
    "print(splitData.shape)\n",
    "testData = testData.merge(splitData,how='outer',left_on=['tweetId'],right_on=['tweetId'])\n",
    "del testData[\"imageId(s)\"]\n",
    "testData.rename(columns={'index':'imageId(s)'}, inplace=True)\n",
    "testData[\"imageId(s)\"] = testData[\"imageId(s)\"].str.strip()\n",
    "for dir, _, files in os.walk('thesis-task/testset/images/'):\n",
    "    imageList = files\n",
    "imgs = testData[\"imageId(s)\"].unique()\n",
    "print(len(imgs))\n",
    "for i, image in enumerate(imageList):\n",
    "    image = image.split('.')[0]\n",
    "    imageList[i] = image\n",
    "\n",
    "imageList.remove('syrian_boy_video')  ## format video;  not available\n",
    "testData = testData.loc[testData['imageId(s)'].isin(imageList)]\n",
    "testData"
   ]
  },
  {
   "cell_type": "code",
   "execution_count": 84,
   "metadata": {
    "colab": {
     "base_uri": "https://localhost:8080/",
     "height": 112
    },
    "colab_type": "code",
    "id": "Ou-_msHpYYzI",
    "outputId": "407772f7-987d-448a-94e8-a21c9ceb87ef"
   },
   "outputs": [
    {
     "data": {
      "text/html": [
       "<div>\n",
       "<style scoped>\n",
       "    .dataframe tbody tr th:only-of-type {\n",
       "        vertical-align: middle;\n",
       "    }\n",
       "\n",
       "    .dataframe tbody tr th {\n",
       "        vertical-align: top;\n",
       "    }\n",
       "\n",
       "    .dataframe thead th {\n",
       "        text-align: right;\n",
       "    }\n",
       "</style>\n",
       "<table border=\"1\" class=\"dataframe\">\n",
       "  <thead>\n",
       "    <tr style=\"text-align: right;\">\n",
       "      <th></th>\n",
       "      <th>label</th>\n",
       "      <th>Count</th>\n",
       "    </tr>\n",
       "  </thead>\n",
       "  <tbody>\n",
       "    <tr>\n",
       "      <th>0</th>\n",
       "      <td>fake</td>\n",
       "      <td>821</td>\n",
       "    </tr>\n",
       "    <tr>\n",
       "      <th>1</th>\n",
       "      <td>real</td>\n",
       "      <td>1212</td>\n",
       "    </tr>\n",
       "  </tbody>\n",
       "</table>\n",
       "</div>"
      ],
      "text/plain": [
       "  label  Count\n",
       "0  fake    821\n",
       "1  real   1212"
      ]
     },
     "execution_count": 84,
     "metadata": {
      "tags": []
     },
     "output_type": "execute_result"
    }
   ],
   "source": [
    "## class wise data distribution and their count \n",
    "dataDistribution = testData.groupby(['label'], sort=True).size().reset_index(name='Count')\n",
    "dataDistribution"
   ]
  },
  {
   "cell_type": "code",
   "execution_count": 0,
   "metadata": {
    "colab": {},
    "colab_type": "code",
    "id": "62bCv0r5YYzR"
   },
   "outputs": [],
   "source": [
    "## training labels encoding to one-hot vector\n",
    "trainLabels = trainData[\"label\"]\n",
    "encoder = LabelEncoder()\n",
    "encoder.fit(trainLabels)\n",
    "trainLabels = encoder.transform(trainLabels)\n",
    "# trainLabels= np_utils.to_categorical(trainLabels)\n",
    "\n",
    "## validation labels\n",
    "valLabels = valData[\"label\"]\n",
    "valLabels = encoder.transform(valLabels)\n",
    "# valLabels= np_utils.to_categorical(valLabels)\n",
    "\n",
    "## test labels encoding to one-hot vector\n",
    "testLabels = testData[\"label\"]\n",
    "testLabels = encoder.transform(testLabels)\n",
    "# testLabels= np_utils.to_categorical(testLabels)"
   ]
  },
  {
   "cell_type": "code",
   "execution_count": 86,
   "metadata": {
    "colab": {
     "base_uri": "https://localhost:8080/",
     "height": 54
    },
    "colab_type": "code",
    "id": "G20hDMg5YYzn",
    "outputId": "3797d82a-ff24-40a2-8a61-5c1c1d42f01e"
   },
   "outputs": [
    {
     "name": "stdout",
     "output_type": "stream",
     "text": [
      "CPU times: user 3 µs, sys: 0 ns, total: 3 µs\n",
      "Wall time: 6.91 µs\n"
     ]
    }
   ],
   "source": [
    "## loading bert pre-trained model\n",
    "%time\n",
    "bertUrl = \"https://tfhub.dev/tensorflow/bert_multi_cased_L-12_H-768_A-12/2\"\n",
    "bertLayer = hub.KerasLayer(bertUrl, trainable=False)"
   ]
  },
  {
   "cell_type": "code",
   "execution_count": 88,
   "metadata": {
    "colab": {
     "base_uri": "https://localhost:8080/",
     "height": 35
    },
    "colab_type": "code",
    "id": "e8bwPrp7YYzx",
    "outputId": "88bf7eb3-579c-45f9-dea9-5a0e896938c4"
   },
   "outputs": [
    {
     "name": "stdout",
     "output_type": "stream",
     "text": [
      "False\n"
     ]
    }
   ],
   "source": [
    "## instantiating tokenizer class object\n",
    "vocab_file = bertLayer.resolved_object.vocab_file.asset_path.numpy()\n",
    "do_lower_case = bertLayer.resolved_object.do_lower_case.numpy()\n",
    "print(do_lower_case)\n",
    "tokenizer = tokenization.FullTokenizer(vocab_file, do_lower_case)"
   ]
  },
  {
   "cell_type": "code",
   "execution_count": 90,
   "metadata": {
    "colab": {
     "base_uri": "https://localhost:8080/",
     "height": 129
    },
    "colab_type": "code",
    "id": "dn2oSBqDYYz6",
    "outputId": "ea0625ec-140a-4a5b-ceed-99cd7685e3a9"
   },
   "outputs": [
    {
     "name": "stdout",
     "output_type": "stream",
     "text": [
      "@PardonMyPoppet psimadethis's crazy #sandy photo. Times Square Subway Stop httpt.co67mWdqyc not sure if photoshopped, but interesting \n",
      "\n",
      "\n",
      "['@', 'Pardo', '##n', '##M', '##y', '##P', '##opp', '##et', 'psi', '##made', '##thi', '##s', \"'\", 's', 'c', '##raz', '##y', '#', 'sand', '##y', 'photo', '.', 'Times', 'Square', 'Subway', 'Stop', 'http', '##t', '.', 'co', '##6', '##7', '##m', '##W', '##d', '##q', '##y', '##c', 'not', 'sure', 'if', 'photos', '##hop', '##ped', ',', 'but', 'interesting']\n",
      "47\n"
     ]
    }
   ],
   "source": [
    "## randomly checking tweet and its tokens pre-processing\n",
    "tweet = trainData[\"tweetText\"].iloc[1000]\n",
    "print(tweet, \"\\n\\n\")\n",
    "input_sequence = tokenizer.tokenize(tweet)\n",
    "print(input_sequence)\n",
    "tokens = tokenizer.convert_tokens_to_ids(input_sequence)\n",
    "print(len(tokens))"
   ]
  },
  {
   "cell_type": "code",
   "execution_count": 91,
   "metadata": {
    "colab": {
     "base_uri": "https://localhost:8080/",
     "height": 297
    },
    "colab_type": "code",
    "id": "S8Fkna-KYY0J",
    "outputId": "d7a505a0-3899-44b7-9565-8745c3580412"
   },
   "outputs": [
    {
     "name": "stdout",
     "output_type": "stream",
     "text": [
      "max Length of tweet for 95% of tweets : 50\n"
     ]
    },
    {
     "data": {
      "image/png": "[encoded data removed]",
      "text/plain": [
       "<Figure size 432x288 with 1 Axes>"
      ]
     },
     "metadata": {
      "needs_background": "light",
      "tags": []
     },
     "output_type": "display_data"
    }
   ],
   "source": [
    "## finding the length distribution of tweets\n",
    "tweetsLength = [len(tokenizer.tokenize(tweet)) for tweet in trainData[\"tweetText\"].tolist()]\n",
    "%matplotlib inline\n",
    "np.random.seed(42)\n",
    "x = np.random.normal(size=1000)\n",
    "plt.hist(tweetsLength, density=False, bins=30) \n",
    "plt.xlabel('length of tweet')\n",
    "plt.ylabel('number of tweets')\n",
    "maxLen = int(np.percentile(tweetsLength, 95))\n",
    "print(\"max Length of tweet for 95% of tweets :\", maxLen)"
   ]
  },
  {
   "cell_type": "code",
   "execution_count": 0,
   "metadata": {
    "colab": {},
    "colab_type": "code",
    "id": "0a35V2v5YY0V"
   },
   "outputs": [],
   "source": [
    "### encoding text sequence/tweet into bert model format\n",
    "def bert_encode(texts, tokenizer, max_len):\n",
    "    all_tokens = []\n",
    "    all_masks = []\n",
    "    all_segments = []\n",
    "    \n",
    "    for text in texts:\n",
    "        text = tokenizer.tokenize(text)\n",
    "            \n",
    "        text = text[:max_len-2]\n",
    "        input_sequence =[\"[CLS]\"] + text + [\"[SEP]\"]\n",
    "        pad_len = max_len - len(input_sequence)\n",
    "        \n",
    "        tokens = tokenizer.convert_tokens_to_ids(input_sequence)\n",
    "        tokens += [0] * pad_len\n",
    "        pad_masks = [1] * len(input_sequence) + [0] * pad_len\n",
    "        segment_ids = [0] * max_len\n",
    "        \n",
    "        all_tokens.append(tokens)\n",
    "        all_masks.append(pad_masks)\n",
    "        all_segments.append(segment_ids)\n",
    "    \n",
    "    return np.array(all_tokens), np.array(all_masks), np.array(all_segments)"
   ]
  },
  {
   "cell_type": "code",
   "execution_count": 0,
   "metadata": {
    "colab": {},
    "colab_type": "code",
    "id": "XIi2bDdSYY0d"
   },
   "outputs": [],
   "source": [
    "### train/validation data generator for batch wise model training\n",
    "\n",
    "def dataGenerator(data, targetLabels, batch_size): \n",
    "    while True:\n",
    "      tweetsList = data[\"tweetText\"].tolist()\n",
    "      imageIds = data[\"imageId(s)\"].tolist()\n",
    "      trainInput = []\n",
    "      trainImages = []\n",
    "      labels = []\n",
    "      for dir, _, files in os.walk('thesis-task/dataset/images/'):\n",
    "          imageList = files\n",
    "      # print(len(imageList))\n",
    "      for i,imageId in enumerate(imageIds):\n",
    "          imageFile = [s for s in imageList if imageIds[i] in s][0]\n",
    "          image = cv2.imread('thesis-task/dataset/images/'+imageFile)\n",
    "          image = cv2.resize(image, (224,224))\n",
    "          trainImages.append(image)\n",
    "          labels.append(targetLabels[i])\n",
    "          if((i+1)%batch_size==0):\n",
    "              trainText = bert_encode(tweetsList[i-batch_size+1:i+1], tokenizer, int(maxLen))\n",
    "              trainInput = [trainText[0], trainText[1], trainText[2], np.array(trainImages)]\n",
    "              yield trainInput, np.array(labels)\n",
    "              trainInput = [] \n",
    "              trainImages = []\n",
    "              labels = []"
   ]
  },
  {
   "cell_type": "code",
   "execution_count": 0,
   "metadata": {
    "colab": {},
    "colab_type": "code",
    "id": "03ePSN_zYY0m"
   },
   "outputs": [],
   "source": [
    "### test data generator for batch wise model evaluation/testing\n",
    "def testDataGenerator(data, batch_size): \n",
    "    while True:\n",
    "      tweetsList = data[\"tweetText\"].tolist()\n",
    "      imageIds = data[\"imageId(s)\"].tolist()\n",
    "      trainInput = []\n",
    "      trainImages = []\n",
    "      labels = []\n",
    "      for dir, _, files in os.walk('thesis-task/testset/images/'):\n",
    "          imageList = files\n",
    "      # print(len(imageList))\n",
    "      for i,imageId in enumerate(imageIds):\n",
    "          imageFile = [s for s in imageList if imageIds[i] in s][0]\n",
    "          # print(tweetsList[i])\n",
    "          image = cv2.imread('thesis-task//testset/images/'+imageFile)\n",
    "          image = cv2.resize(image, (224,224))\n",
    "          trainImages.append(image)\n",
    "          labels.append(testLabels[i])\n",
    "          if((i+1)%batch_size==0):\n",
    "              trainText = bert_encode(tweetsList[i-batch_size+1:i+1], tokenizer, int(maxLen))\n",
    "              trainInput = [trainText[0], trainText[1], trainText[2], np.array(trainImages)]\n",
    "              yield trainInput, np.array(labels)\n",
    "              trainInput = [] \n",
    "              trainImages = []\n",
    "              labels = []"
   ]
  },
  {
   "cell_type": "code",
   "execution_count": 0,
   "metadata": {
    "colab": {},
    "colab_type": "code",
    "id": "xRPXFo67YY0t"
   },
   "outputs": [],
   "source": [
    "## Bert and Vgg Model initialization\n",
    "def getBertModel(bert_layer, maxLen):\n",
    "    input_word_ids = Input(shape=(maxLen,), dtype=tf.int32, name=\"input_word_ids\")\n",
    "    input_mask = Input(shape=(maxLen,), dtype=tf.int32, name=\"input_mask\")\n",
    "    segment_ids = Input(shape=(maxLen,), dtype=tf.int32, name=\"segment_ids\")\n",
    "\n",
    "    _, sequence_output = bert_layer([input_word_ids, input_mask, segment_ids])\n",
    "    bert_output = sequence_output[:, 0, :]\n",
    "    # bnLayer = BatchNormalization()(bert_output)\n",
    "    hiddenLayer = Dense(768, activation='relu')(bert_output)\n",
    "    dropOut = Dropout(0.2)(hiddenLayer)\n",
    "    hiddenLayer = Dense(32, activation='relu', name=\"bert-last\")(dropOut)\n",
    "    # dropOut = Dropout(0.2)(hiddenLayer)\n",
    "    model = Model(inputs=[input_word_ids, input_mask, segment_ids], outputs=hiddenLayer)\n",
    "    return model\n",
    "\n",
    "\n",
    "def getVggModel():\n",
    "    vggModel = VGG19(weights='imagenet', include_top=False, input_shape = (224,224, 3))\n",
    "    vggModel.trainable = False\n",
    "    # for layer in vggModel.layers[-3:]:\n",
    "    #   layer.trainable = True\n",
    "    flatLayer = Flatten()\n",
    "    # bnLayer = BatchNormalization()\n",
    "    hiddenLayer1 = Dense(2742, activation='relu')\n",
    "    dropOut = Dropout(0.2)\n",
    "    hiddenLayer2 = Dense(32, activation='relu', name=\"vgg-last\")\n",
    "    # dropOut = Dropout(0.2)\n",
    "    model = tf.keras.Sequential([\n",
    "      vggModel,\n",
    "      flatLayer,\n",
    "      # bnLayer, \n",
    "      hiddenLayer1,\n",
    "      dropOut,\n",
    "      hiddenLayer2, \n",
    "      # dropOut\n",
    "    ])\n",
    "\n",
    "    return model"
   ]
  },
  {
   "cell_type": "code",
   "execution_count": 97,
   "metadata": {
    "colab": {
     "base_uri": "https://localhost:8080/",
     "height": 955
    },
    "colab_type": "code",
    "id": "EGc5MmofYY0-",
    "outputId": "96183229-41b1-4e60-9c75-68776d37e72a"
   },
   "outputs": [
    {
     "name": "stdout",
     "output_type": "stream",
     "text": [
      "Tensor(\"bert-last_6/Identity:0\", shape=(None, 32), dtype=float32) Tensor(\"vgg-last_6/Identity:0\", shape=(None, 32), dtype=float32)\n",
      "Model: \"model_13\"\n",
      "__________________________________________________________________________________________________\n",
      "Layer (type)                    Output Shape         Param #     Connected to                     \n",
      "==================================================================================================\n",
      "input_word_ids (InputLayer)     [(None, 50)]         0                                            \n",
      "__________________________________________________________________________________________________\n",
      "input_mask (InputLayer)         [(None, 50)]         0                                            \n",
      "__________________________________________________________________________________________________\n",
      "segment_ids (InputLayer)        [(None, 50)]         0                                            \n",
      "__________________________________________________________________________________________________\n",
      "vgg19_input (InputLayer)        [(None, 224, 224, 3) 0                                            \n",
      "__________________________________________________________________________________________________\n",
      "keras_layer_1 (KerasLayer)      [(None, 768), (None, 177853441   input_word_ids[0][0]             \n",
      "                                                                 input_mask[0][0]                 \n",
      "                                                                 segment_ids[0][0]                \n",
      "__________________________________________________________________________________________________\n",
      "vgg19 (Model)                   (None, 7, 7, 512)    20024384    vgg19_input[0][0]                \n",
      "__________________________________________________________________________________________________\n",
      "tf_op_layer_strided_slice_6 (Te [(None, 768)]        0           keras_layer_1[1][1]              \n",
      "__________________________________________________________________________________________________\n",
      "flatten_7 (Flatten)             (None, 25088)        0           vgg19[1][0]                      \n",
      "__________________________________________________________________________________________________\n",
      "dense_25 (Dense)                (None, 768)          590592      tf_op_layer_strided_slice_6[0][0]\n",
      "__________________________________________________________________________________________________\n",
      "dense_24 (Dense)                (None, 2742)         68794038    flatten_7[0][0]                  \n",
      "__________________________________________________________________________________________________\n",
      "dropout_28 (Dropout)            (None, 768)          0           dense_25[0][0]                   \n",
      "__________________________________________________________________________________________________\n",
      "dropout_27 (Dropout)            (None, 2742)         0           dense_24[0][0]                   \n",
      "__________________________________________________________________________________________________\n",
      "bert-last (Dense)               (None, 32)           24608       dropout_28[0][0]                 \n",
      "__________________________________________________________________________________________________\n",
      "vgg-last (Dense)                (None, 32)           87776       dropout_27[0][0]                 \n",
      "__________________________________________________________________________________________________\n",
      "concat-layer (Concatenate)      (None, 64)           0           bert-last[0][0]                  \n",
      "                                                                 vgg-last[0][0]                   \n",
      "__________________________________________________________________________________________________\n",
      "batch_normalization_13 (BatchNo (None, 64)           256         concat-layer[0][0]               \n",
      "__________________________________________________________________________________________________\n",
      "dense_26 (Dense)                (None, 16)           1040        batch_normalization_13[0][0]     \n",
      "__________________________________________________________________________________________________\n",
      "dropout_29 (Dropout)            (None, 16)           0           dense_26[0][0]                   \n",
      "__________________________________________________________________________________________________\n",
      "dense_27 (Dense)                (None, 1)            17          dropout_29[0][0]                 \n",
      "==================================================================================================\n",
      "Total params: 267,376,152\n",
      "Trainable params: 69,498,199\n",
      "Non-trainable params: 197,877,953\n",
      "__________________________________________________________________________________________________\n"
     ]
    }
   ],
   "source": [
    "## define model arhcitecture\n",
    "\n",
    "##define VGG model\n",
    "vggModel = getVggModel()\n",
    "\n",
    "## define BERT model\n",
    "bertModel = getBertModel(bertLayer, int(maxLen))\n",
    "\n",
    "## concatenate and combine models\n",
    "print(bertModel.output, vggModel.output)\n",
    "combinedlayer = tf.keras.layers.Concatenate(name=\"concat-layer\")([bertModel.output, vggModel.output])\n",
    "combinedlayer = BatchNormalization()(combinedlayer)\n",
    "combinedlayer = Dense(16, activation='relu')(combinedlayer)\n",
    "combinedlayer = Dropout(0.2)(combinedlayer)\n",
    "outputLayer = Dense(1, activation='sigmoid')(combinedlayer)\n",
    "\n",
    "model = Model(\n",
    "    [bertModel.input, vggModel.input],\n",
    "    outputLayer                        \n",
    ") \n",
    "model.summary()\n",
    "model.compile(loss=tf.keras.losses.BinaryCrossentropy(), optimizer=Adam(lr=1e-3, decay=1e-3 / 200), metrics=[ 'accuracy', tf.keras.metrics.AUC(\n",
    "    num_thresholds=200, curve='ROC', summation_method='interpolation', name=None,\n",
    "    dtype=None, thresholds=None, multi_label=False, label_weights=None\n",
    ")\n",
    "])"
   ]
  },
  {
   "cell_type": "code",
   "execution_count": 23,
   "metadata": {
    "colab": {
     "base_uri": "https://localhost:8080/",
     "height": 35
    },
    "colab_type": "code",
    "id": "geuJX9bInF9E",
    "outputId": "bd13cebd-e073-4933-a48b-0b63f9cfc5ff"
   },
   "outputs": [
    {
     "data": {
      "text/plain": [
       "(10679, 7)"
      ]
     },
     "execution_count": 23,
     "metadata": {
      "tags": []
     },
     "output_type": "execute_result"
    }
   ],
   "source": [
    "trainData.shape"
   ]
  },
  {
   "cell_type": "code",
   "execution_count": 98,
   "metadata": {
    "colab": {
     "base_uri": "https://localhost:8080/",
     "height": 404
    },
    "colab_type": "code",
    "id": "TsWrKbNmYY1I",
    "outputId": "7a38c14c-b23f-4377-a817-030a5445449e"
   },
   "outputs": [
    {
     "name": "stdout",
     "output_type": "stream",
     "text": [
      "Epoch 1/10\n",
      "333/333 [==============================] - 274s 824ms/step - loss: 0.4129 - accuracy: 0.8273 - auc_6: 0.8998 - val_loss: 0.6305 - val_accuracy: 0.6402 - val_auc_6: 0.7113\n",
      "Epoch 2/10\n",
      "333/333 [==============================] - 276s 829ms/step - loss: 0.2151 - accuracy: 0.9230 - auc_6: 0.9738 - val_loss: 0.2581 - val_accuracy: 0.8868 - val_auc_6: 0.9877\n",
      "Epoch 3/10\n",
      "333/333 [==============================] - 278s 835ms/step - loss: 0.1236 - accuracy: 0.9587 - auc_6: 0.9912 - val_loss: 0.3039 - val_accuracy: 0.8733 - val_auc_6: 0.9444\n",
      "Epoch 4/10\n",
      "333/333 [==============================] - 277s 831ms/step - loss: 0.0838 - accuracy: 0.9732 - auc_6: 0.9960 - val_loss: 0.2152 - val_accuracy: 0.9130 - val_auc_6: 0.9839\n",
      "Epoch 5/10\n",
      "333/333 [==============================] - 276s 828ms/step - loss: 0.0654 - accuracy: 0.9777 - auc_6: 0.9975 - val_loss: 0.2041 - val_accuracy: 0.9172 - val_auc_6: 0.9785\n",
      "Epoch 6/10\n",
      "333/333 [==============================] - 275s 825ms/step - loss: 0.0574 - accuracy: 0.9814 - auc_6: 0.9977 - val_loss: 0.1456 - val_accuracy: 0.9451 - val_auc_6: 0.9891\n",
      "Epoch 7/10\n",
      "333/333 [==============================] - 276s 829ms/step - loss: 0.0478 - accuracy: 0.9850 - auc_6: 0.9983 - val_loss: 0.1747 - val_accuracy: 0.9037 - val_auc_6: 0.9850\n",
      "Epoch 8/10\n",
      "333/333 [==============================] - 276s 829ms/step - loss: 0.0382 - accuracy: 0.9875 - auc_6: 0.9990 - val_loss: 0.2599 - val_accuracy: 0.8826 - val_auc_6: 0.9766\n",
      "Epoch 9/10\n",
      "333/333 [==============================] - 276s 828ms/step - loss: 0.0322 - accuracy: 0.9900 - auc_6: 0.9992 - val_loss: 0.2746 - val_accuracy: 0.8843 - val_auc_6: 0.9852\n",
      "Epoch 10/10\n",
      "333/333 [==============================] - 277s 831ms/step - loss: 0.0298 - accuracy: 0.9912 - auc_6: 0.9991 - val_loss: 0.3707 - val_accuracy: 0.8784 - val_auc_6: 0.9754\n"
     ]
    }
   ],
   "source": [
    "### model training\n",
    "earlyStopping = tf.keras.callbacks.EarlyStopping(monitor='loss', patience=5)\n",
    "weightPath=\"weights-{epoch:02d}-{val_accuracy:.2f}.hdf5\"\n",
    "checkpoint = ModelCheckpoint(weightPath, monitor='val_accuracy', verbose=0, save_best_only=True, mode='max')\n",
    "\n",
    "trainGen = dataGenerator(trainData, trainLabels, batch_size=32)\n",
    "valGen = dataGenerator(valData, valLabels, batch_size=8)\n",
    "history = model.fit_generator(\n",
    "    trainGen,\n",
    "    validation_data= valGen, validation_steps=148,\n",
    "    epochs=10, steps_per_epoch=333, callbacks=[earlyStopping, checkpoint], shuffle=True)"
   ]
  },
  {
   "cell_type": "code",
   "execution_count": 99,
   "metadata": {
    "colab": {
     "base_uri": "https://localhost:8080/",
     "height": 591
    },
    "colab_type": "code",
    "id": "r43Sa9KmxfJh",
    "outputId": "fc8219fc-dfbf-4145-ac84-d8f2b702247d"
   },
   "outputs": [
    {
     "name": "stdout",
     "output_type": "stream",
     "text": [
      "dict_keys(['loss', 'accuracy', 'auc_6', 'val_loss', 'val_accuracy', 'val_auc_6'])\n"
     ]
    },
    {
     "data": {
      "image/png": "[encoded data removed]",
      "text/plain": [
       "<Figure size 432x288 with 1 Axes>"
      ]
     },
     "metadata": {
      "needs_background": "light",
      "tags": []
     },
     "output_type": "display_data"
    },
    {
     "data": {
      "image/png": "[encoded data removed]",
      "text/plain": [
       "<Figure size 432x288 with 1 Axes>"
      ]
     },
     "metadata": {
      "needs_background": "light",
      "tags": []
     },
     "output_type": "display_data"
    }
   ],
   "source": [
    "## plotting training vs validation loss curves\n",
    "print(history.history.keys())\n",
    "\n",
    "plt.plot(history.history['accuracy'])\n",
    "plt.plot(history.history['val_accuracy'])\n",
    "plt.title('model accuracy')\n",
    "plt.ylabel('accuracy')\n",
    "plt.xlabel('epoch')\n",
    "plt.legend(['train', 'validation'], loc='upper left')\n",
    "plt.show()\n",
    "# \"Loss\"\n",
    "plt.plot(history.history['loss'])\n",
    "plt.plot(history.history['val_loss'])\n",
    "plt.title('model loss')\n",
    "plt.ylabel('loss')\n",
    "plt.xlabel('epoch')\n",
    "plt.legend(['train', 'validation'], loc='upper left')\n",
    "plt.show()"
   ]
  },
  {
   "cell_type": "code",
   "execution_count": 0,
   "metadata": {
    "colab": {
     "base_uri": "https://localhost:8080/",
     "height": 35
    },
    "colab_type": "code",
    "id": "jeDrg_UzYY1V",
    "outputId": "5bd607a5-65b1-4d68-ce10-cd969e31cca6"
   },
   "outputs": [
    {
     "name": "stdout",
     "output_type": "stream",
     "text": [
      "Saved model to disk\n"
     ]
    }
   ],
   "source": [
    "from tensorflow.keras.models import model_from_json\n",
    "model_json = model.to_json()\n",
    "with open(\"spotfake-3.json\", \"w\") as json_file:\n",
    "    json_file.write(model_json)\n",
    "# serialize weights to HDF5\n",
    "model.save_weights(\"spotfake-3.h5\")\n",
    "print(\"Saved model to disk\")\n",
    "\n",
    "!cp -a spotfake-3.h5 \"/content/drive/My Drive/thesis-task/model-1\"\n",
    "!cp -a spotfake-3.json \"/content/drive/My Drive/thesis-task/model-1\""
   ]
  },
  {
   "cell_type": "code",
   "execution_count": 0,
   "metadata": {
    "colab": {},
    "colab_type": "code",
    "id": "dA9Bqx1EYY1d"
   },
   "outputs": [],
   "source": [
    "## getting prediction probabilities\n",
    "dataGen = testDataGenerator(testData, batch_size=8)\n",
    "\n",
    "yPred = model.predict_generator(dataGen, steps=250)\n",
    "# print(yPred)\n"
   ]
  },
  {
   "cell_type": "code",
   "execution_count": 102,
   "metadata": {
    "colab": {
     "base_uri": "https://localhost:8080/",
     "height": 54
    },
    "colab_type": "code",
    "id": "F3OIONulOFsx",
    "outputId": "27a34c9f-a99e-4ba9-d239-a665f1179776"
   },
   "outputs": [
    {
     "name": "stdout",
     "output_type": "stream",
     "text": [
      "379\n",
      "0.622\n"
     ]
    }
   ],
   "source": [
    "def getBinaryAccuracy(yPred, yTrue):\n",
    "  acc = 0\n",
    "  count = 0\n",
    "  yPred = yPred > 0.5\n",
    "  for i in range(len(yPred)):\n",
    "    predClass = yPred[i]\n",
    "    trueClass = yTrue[i]\n",
    "    if(predClass==0):\n",
    "      count+=1\n",
    "    if(predClass==trueClass):\n",
    "      acc+=1\n",
    "  # print(count)\n",
    "  return acc/len(yPred)\n",
    "\n",
    "print(getBinaryAccuracy(yPred, testLabels))"
   ]
  },
  {
   "cell_type": "code",
   "execution_count": 47,
   "metadata": {
    "colab": {
     "base_uri": "https://localhost:8080/",
     "height": 35
    },
    "colab_type": "code",
    "id": "UO3zO2axPjCx",
    "outputId": "3ba69852-0aa6-4bdf-cd14-ede8d689a6ba"
   },
   "outputs": [
    {
     "name": "stdout",
     "output_type": "stream",
     "text": [
      "0.648\n"
     ]
    }
   ],
   "source": [
    "def getAccuracy(yPred, yTrue):\n",
    "  acc = 0\n",
    "  count = 0\n",
    "  for i in range(len(yPred)):\n",
    "    predClass = np.argmax(yPred[i])\n",
    "    trueClass = np.argmax(yTrue[i])\n",
    "    if(predClass==1):\n",
    "      count+=1\n",
    "    if(predClass==trueClass):\n",
    "      acc+=1\n",
    "  print(count)\n",
    "  return acc/len(yPred)\n",
    "\n",
    "def getBinaryAccuracy(yPred, yTrue):\n",
    "  acc = 0\n",
    "  count = 0\n",
    "  yPred = yPred > 0.5\n",
    "  for i in range(len(yPred)):\n",
    "    predClass = yPred[i]\n",
    "    trueClass = yTrue[i]\n",
    "    if(predClass==0):\n",
    "      count+=1\n",
    "    if(predClass==trueClass):\n",
    "      acc+=1\n",
    "  # print(count)\n",
    "  return acc/len(yPred)\n",
    "\n",
    "print(getBinaryAccuracy(yPred, testLabels))\n"
   ]
  },
  {
   "cell_type": "markdown",
   "metadata": {
    "colab_type": "text",
    "id": "UcF1fC5RYY1n"
   },
   "source": [
    "# References\n",
    "1. https://tfhub.dev/tensorflow/bert_multi_cased_L-12_H-768_A-12/2"
   ]
  },
  {
   "cell_type": "code",
   "execution_count": null,
   "metadata": {},
   "outputs": [],
   "source": []
  }
 ],
 "metadata": {
  "accelerator": "GPU",
  "colab": {
   "collapsed_sections": [],
   "name": "spotfake-implementation-colab.ipynb",
   "provenance": [],
   "toc_visible": true
  },
  "kernelspec": {
   "display_name": "Python 3",
   "language": "python",
   "name": "python3"
  },
  "language_info": {
   "codemirror_mode": {
    "name": "ipython",
    "version": 3
   },
   "file_extension": ".py",
   "mimetype": "text/x-python",
   "name": "python",
   "nbconvert_exporter": "python",
   "pygments_lexer": "ipython3",
   "version": "3.7.4"
  }
 },
 "nbformat": 4,
 "nbformat_minor": 1
}
